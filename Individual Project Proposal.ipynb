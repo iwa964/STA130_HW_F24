{
 "cells": [
  {
   "cell_type": "markdown",
   "id": "29c56bee",
   "metadata": {},
   "source": [
    "- Research Question 1: What is the relationship between social media time per day and the frequency of feeling loneliness across a week?\n",
    "- Variables (To visualize the variables, we can use bar plots)\n",
    "    - Independent variable: Social Media use per day. Discrete ordinal variable, categorized into different interval of values. Social media use nowadays is prevalent and could play a role in shaping social connections. With social media, people can connect with people afar or without physical connections. By examining this variable, we can determine whether digital connections could impact impact feeling of social insecurities/belonging.\n",
    "    - Dependent variable: Frequency of loneliness in past week. Discrete ordinal variable categorized into range of values. Loneliness is a subjective experience that can be influenced by social connections. Whether a person is feeling lonely can help us examine whether the person is socially connected or disconnected to others. Understanding whether social media use affest loneliness also gives us insight on whether social media provide a sense of connection or isolation\n",
    "- Hypothesis:\n",
    "    - Null hypothesis: There is no significance relationship between social media use per day and frequency of feeling loneliness across a week (p > 0.05 chi-squared statistic < critical value)\n",
    "    - Alternative hypothesis: There is a significant relationship between social media use per day and frequency of feeling loneliness across a week. (p ≤ 0.05 or chi-squared statistic > critical value)\n",
    "    - To determine significance, we will use the p-value(≤0.05 for significance) and critical value to provide a threshold for comparison with the chi-squared statistic. The p-value will help me see if data is likely by chance or if there is enough evidence to suggest relationship between variables. The critical value for chi-squared test is a cutoff point that tells us whether our p-value is greater or smaller than 0.05. If the test statistic is smaller than critical value, we would fail to reject the null hypothesis. Using both values allows us to check for consistency.\n",
    "- Relevance to social connection and community engagement: It explores whether social media - a popular modern tool for social interaction - is linked to loneliness. Results to the findings could have implications for promoting positive online connections.\n",
    "- Method: Hypothesis testing and Graph analysis (correlation) with Chi-Squared test and XY heatmap\n",
    "    - Why Chi-Squared: Both datasets are categorical - categorized into ranges. The Chi-squared test helps assess if there is a statistical association between 2 categorical variables\n",
    "    - Why XY-Heatmap: A good way to map the patterns between 2 categorical data (which we have) with different intensity of colours. With a large dataset, the heatmap also aggregates values and simplify data across multiple categories into different areas. The heatmap also shows frequency of each event and values, which helps us visualize a correlation between social media usage and loniness frequency as well as summarizing combinations between these.\n",
    "- Assumptions:\n",
    "    - Observations in both datasets are independent of each other\n",
    "    - Expected frequency in each category for both dataset should be 5 to ensure validity in Chi-Squared test"
   ]
  },
  {
   "cell_type": "markdown",
   "id": "05f98188",
   "metadata": {},
   "source": [
    "- Research Question 2: How does the number of close friends affect a person's life satisfaction?\n",
    "- Variables\n",
    "    - Independent variable: Number of close friends. Discrete ordinal(numerical), with values greater than or equal to 1. Close relationships are key indicators of the amount of social support the person has. Examining number of close friends show a person's social network and community engagement.\n",
    "    - Dependent variable: Life satisfaction. Discrete ordinal(numerical), measure on a scale of 1-10 where higher values show greater life satisfaction. Life satisfaction shows a person's overall contentment and well-being. Studying its relationship to friendships provide us insight to whether close relationship contribute to a person's sense of fulfillment and happiness.\n",
    "    - Visualization of variables (distribution): The box plot displays a distribution of the responses and would help us identify common levels of close friends and typical life satisfaction ratings.\n",
    "- Hypothesis:\n",
    "    - Null hypothesis: The number of close friends has no impact on life satisfaction\n",
    "    - Alternative hypothesis: The number of close friends has a postitive or negative effect on life satisfaction.\n",
    "    - To determine significance, we will use the p-value, and use coefficient of determination as a reference.\n",
    "        - P-value: a p-value ≤ 0.05 would suggest statistically significant\n",
    "        - Coefficient of determination: Explains how well the number of close friends explain variation in life satisfaction.\n",
    "- Relevance to social connection and community engagement: Exploration on relationship between friendships and life satisfaction is relevant in understanding how social bonds influcence overall wellbeing. Results of this research give insight on how social connection promote personal wellbeing.\n",
    "- Analysis methods: Linear regression and correlation analysis\n",
    "    - Why linear regression: Linear regression helps us determine if there is a relationship between number of close friends and satisfaction.\n",
    "    - Why correlation analysis: measures strength and direction of relationship and provide insight on how close the 2 variables are linked.\n",
    "    - Visualization: scatterplot - illustrates the relationship between close friendships and life satisfaction. Data points in datasets are continuous in integer sequence.\n",
    "- Assumptions:\n",
    "    - Linearity: relationship between 2 variables are linear\n",
    "    - Independence: each person's response is independent of others\n",
    "    - Residuals of regression follow approximately follow a normal distribution"
   ]
  },
  {
   "cell_type": "markdown",
   "id": "b28578e9",
   "metadata": {},
   "source": [
    "- Research Question 3: How does the age of a person affect comfort talking with strangers\n",
    "- Variables\n",
    "    - Independent variable: Age. Discrete ordinal(numerical), with integer values. A person's age can be a representation of maturity, life experience and exposure to social interactions - with talking with strangers (or social connection skill)\n",
    "    - Dependent variable: Comfort_talking_with_strangers. Discrete ordinal variable with categories such as 'Very Uncomfortable', 'Very comfortable.' The comfort level in social interaction indicates a person's openness to new connections and social engagement. Understanding this relationship with age provide insight on how social skills can evolve over time.\n",
    "- Visualization of variables (distribution): \n",
    "    - Age distribution: A box plot that displays age distribution\n",
    "    - Comfort levels: A bar chart showing the frequency of each comfort level\n",
    "- Hypothesis:\n",
    "    - Null hypothesis: Age has no significant effect on a person’s comfort in talking with strangers.\n",
    "    - Alternative hypothesis: Age has a significant effect on a person’s comfort in talking with strangers.\n",
    "    - Significance testing: \n",
    "        - p-value - determines is observed relationship between age and comfort level is statistically significant - p ≤ 0.05 indicates significance\n",
    "        - Confidence interval - bootstrapped confidence interval can show if observed difference are likely to hold across population\n",
    "- Relevance to social connection and community engagement: The research question explores the role of age in social comfort, This is closely linked to how people form new social connections and how social skills may change over time. Results may show socialization engagement across different age groups.\n",
    "- Analysis methods: Bootstrapping for multiple sampling distributions:\n",
    "    - How: create unique sampling distribution of mean/median age for each comfort level by repeatedly resampling in each group to compare age across different levels and assess variability\n",
    "    - Why bootstrapping: bootstrapping allows for creating sampling distribution for mean or median age within each comfort category and can help us estimate the variability in comfort level across age groups\n",
    "    - Visualization: A bootstrapped histogram for each comfort level can show how mean/median age varies across levels of comfort\n",
    "- Assumptions:\n",
    "    - Independence - each person's comfort level is independent of others\n",
    "    - Assume that sample is representative of population so resampling approximates population variability"
    "Note: I'd like to work with Rick Sun for the project."
   ]
  }
 ],
 "metadata": {
  "kernelspec": {
   "display_name": "Python 3 (ipykernel)",
   "language": "python",
   "name": "python3"
  },
  "language_info": {
   "codemirror_mode": {
    "name": "ipython",
    "version": 3
   },
   "file_extension": ".py",
   "mimetype": "text/x-python",
   "name": "python",
   "nbconvert_exporter": "python",
   "pygments_lexer": "ipython3",
   "version": "3.11.6"
  }
 },
 "nbformat": 4,
 "nbformat_minor": 5
}
